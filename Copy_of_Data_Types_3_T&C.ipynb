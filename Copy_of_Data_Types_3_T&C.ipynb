{
  "nbformat": 4,
  "nbformat_minor": 0,
  "metadata": {
    "colab": {
      "provenance": [],
      "include_colab_link": true
    },
    "kernelspec": {
      "name": "python3",
      "display_name": "Python 3"
    }
  },
  "cells": [
    {
      "cell_type": "markdown",
      "metadata": {
        "id": "view-in-github",
        "colab_type": "text"
      },
      "source": [
        "<a href=\"https://colab.research.google.com/github/Louise1909/Work-Based-Learning/blob/main/Copy_of_Data_Types_3_T%26C.ipynb\" target=\"_parent\"><img src=\"https://colab.research.google.com/assets/colab-badge.svg\" alt=\"Open In Colab\"/></a>"
      ]
    },
    {
      "cell_type": "markdown",
      "metadata": {
        "id": "GdT0fwTCa4gI"
      },
      "source": [
        "# Working with Strings"
      ]
    },
    {
      "cell_type": "markdown",
      "metadata": {
        "id": "ozWLM6Pfa7d_"
      },
      "source": [
        "---\n",
        "### Exercise 1 strings\n",
        "**Recap**: to assign a string to a variable, give it a value in \"  \"\n",
        "\n",
        "*variableName = \"string to be stored in variable\"*   \n",
        "\n",
        "Write a function called **print_initials()** which will:\n",
        "\n",
        "*  create a variable called **first_name** and assign it a value (see below)  \n",
        "*  create a variable called **middle_name** and assign it a value (see below) \n",
        "*  create a variable called **surname** and assign it a value (see below) \n",
        "*  creat a variable called **full_name** joining the names together in the format: `surname`, `first_name` `middle_name`  \n",
        "\n",
        "### Test  \n",
        "If first_name is assigned the value `Peter`, `middle_name` is assigned the value `Barry` and `surname` is assigned the value `Burrows` then the output will be:    \n",
        "  \n",
        "Burrows, Peter Barry\n"
      ]
    },
    {
      "cell_type": "code",
      "metadata": {
        "id": "lMJckNo-ab3z"
      },
      "source": [],
      "execution_count": null,
      "outputs": []
    },
    {
      "cell_type": "markdown",
      "metadata": {
        "id": "1Pvs8lp3bfYQ"
      },
      "source": [
        "# Substrings\n",
        "\n",
        "---\n",
        "\n",
        "A String is a set of characters. Each String has a length and each character in the string has a position or index. Indexing starts at 0 so the first character of a String is at position 0. As Strings have varying lengths, the last character of the String is at position -1. To find any character in the String, count from 0 or, if you want to count backwards from the end, count back from -1.  \n",
        "\n",
        "You can get a particular character, or a set of consecutive characters (substring) from a String using [] and the positions of the characters you want.  *This technique is particularly useful for searching and filtering*.\n",
        "\n",
        "Example:  \n",
        "To get the first letter of a String (in this case the String is called **category**)\n",
        "**first_letter** = `category`[0]  \n",
        "**second_letter** = `category`[1]  \n",
        "**sixth_letter** = `category`[5]  \n",
        "\n",
        "To get the last letter of `category`:  \n",
        "**last_letter** = `category`[-1]  \n",
        "**second_last_letter** = `category`[-2]  \n",
        "**third_last_letter** = `category`[-3]  \n",
        "\n",
        "Have a go"
      ]
    },
    {
      "cell_type": "code",
      "metadata": {
        "id": "1EMg6ff7bw7o",
        "outputId": "9e952922-ef88-4689-9076-976a819f3755",
        "colab": {
          "base_uri": "https://localhost:8080/"
        }
      },
      "source": [
        "def print_letters():\n",
        "   category = \"Maintenance\" \n",
        "   # add your code below here to get a particular letter and print it.\n",
        "   first_letter=category[0]\n",
        "   last_letter=category[-1]\n",
        "   second_letter=category[1]\n",
        "   third_letter=category[3]\n",
        "   last_five=category[-5:-3]\n",
        "   print(last_five)\n",
        "  \n",
        "  \n",
        "print_letters()"
      ],
      "execution_count": null,
      "outputs": [
        {
          "output_type": "stream",
          "name": "stdout",
          "text": [
            "na\n"
          ]
        }
      ]
    },
    {
      "cell_type": "markdown",
      "metadata": {
        "id": "FfkpprKbb0Eu"
      },
      "source": [
        "To get a set of letters from a String, use the **slice** operator.  \n",
        "\n",
        "*substring = stringname[ index of first letter to be included_ : index + 1 of last letter ]* \n",
        "\n",
        "Example:  \n",
        "\n",
        "**first_three_letters** = `category`[0:3]  \n",
        "**second_to_fifth_letters** = `category`[1:5]  \n",
        "**last_three_letters** = `category`[-3:]  \n",
        "\n",
        "*Note: we can't add 1 to -1 as the result would be 0 and confused with the first letter, so we omit the second number to indicate that we want all characters to the end of the string*"
      ]
    },
    {
      "cell_type": "code",
      "metadata": {
        "id": "FGQj_JCVcPGj"
      },
      "source": [
        "def print_substrings():\n",
        "   category = \"Maintenance\" \n",
        "   # add your code below here to get a particular letter, or set of letters and print them.\n",
        "\n",
        "  \n",
        "print_substrings()"
      ],
      "execution_count": null,
      "outputs": []
    },
    {
      "cell_type": "markdown",
      "metadata": {
        "id": "Cb2OHs_jcQFv"
      },
      "source": [
        "---\n",
        "### Exercise 2 - substrings\n",
        "\n",
        "Write a function called **print_substring()** which will:\n",
        " \n",
        "Create a variable called **location** and assign it a string of at least 5 letters  \n",
        "Print the **first** and the **fourth** letters in the `location`  \n",
        "\n",
        "### Test  \n",
        "If `name` is assigned the value \"Peake House\" the output should be:    \n",
        " \n",
        "First letter is P, fourth letter is k\n"
      ]
    },
    {
      "cell_type": "code",
      "metadata": {
        "id": "IfABvmw2cgfH",
        "outputId": "7120bd56-7501-47f9-9b72-9435e37dada3",
        "colab": {
          "base_uri": "https://localhost:8080/"
        }
      },
      "source": [
        "def print_substring():\n",
        "  location=\"peake House\"\n",
        "  first_five=location[0:5]\n",
        "  first_letter=location[0]\n",
        "  fourth_letter=location[4]\n",
        "  print(first_letter,fourth_letter)\n",
        "print_substring()"
      ],
      "execution_count": null,
      "outputs": [
        {
          "output_type": "stream",
          "name": "stdout",
          "text": [
            "p e\n"
          ]
        }
      ]
    },
    {
      "cell_type": "markdown",
      "metadata": {
        "id": "6ryO1LJMchLQ"
      },
      "source": [
        "---\n",
        "### Exercise 3  - Formatting String output  \n",
        "\n",
        "Write a function called **print_formatted()** which will:  \n",
        "\n",
        "*  ask the user to input a **building_number**\n",
        "*  ask the user to input a **road_name**, then a **town**, then a **postcode**  \n",
        "*  print the address on three lines (`building_number` with a comma and `road_name`, `town`, `postcode`)  \n",
        "\n",
        "### Test  \n",
        "If `building_number` is 10, `road_name` is \"Old Road\", `town` is `Chatham` and `postcode` is \"ME4 1AA\" the output should be:    \n",
        "   \n",
        "10, Old Road  \n",
        "Chatham  \n",
        "ME4 1AA  "
      ]
    },
    {
      "cell_type": "code",
      "metadata": {
        "id": "qNHq7Ub4c1xP",
        "outputId": "03ec7f63-b311-45ee-ed14-ea6b0dde90b1",
        "colab": {
          "base_uri": "https://localhost:8080/"
        }
      },
      "source": [
        "def print_formatted():\n",
        "  building_number=10\n",
        "  road_name=\"old road\"\n",
        "  town=\"chatham\" \n",
        "  postcode=\"me41aa\"\n",
        " \n",
        "  print(building_number,road_name,town,postcode)\n",
        "\n",
        "print_formatted()\n"
      ],
      "execution_count": null,
      "outputs": [
        {
          "output_type": "stream",
          "name": "stdout",
          "text": [
            "10 old road chatham me41aa\n"
          ]
        }
      ]
    },
    {
      "cell_type": "markdown",
      "metadata": {
        "id": "E4BkKHlyc2BA"
      },
      "source": [
        "# String functions\n",
        "\n",
        "## String length\n",
        "\n",
        "You can get the length of a String using the len() function   \n",
        "e.g. **namelength** = len(`name`)  \n"
      ]
    },
    {
      "cell_type": "markdown",
      "metadata": {
        "id": "B0-NtV3uc8UC"
      },
      "source": [
        "---\n",
        "### Exercise 4 - String length  \n",
        "\n",
        "Write a function called **print_namelength()** which will:  \n",
        "\n",
        "*  create a variable called **name** and assign it a string value  \n",
        "*  assign the length of the name to a variable called **name_length**  \n",
        "*  print the `name` followed by a comma, then `name_length`, then the word “characters”.\n",
        "\n",
        "### Test  \n",
        "If `name` has the value \"William\" the output should be:    \n",
        " \n",
        "William, 7 characters"
      ]
    },
    {
      "cell_type": "code",
      "metadata": {
        "id": "ldWAjdrIdOzn",
        "outputId": "5ce34ef8-1440-43e4-e1ed-cbfb8b7ec13c",
        "colab": {
          "base_uri": "https://localhost:8080/"
        }
      },
      "source": [
        "def print_namelength():\n",
        "    name=\"william,\"\n",
        "    name_length =7\n",
        "    word=\"characters\"\n",
        "    print(name,name_length,word)\n",
        "    \n",
        "print_namelength()"
      ],
      "execution_count": 9,
      "outputs": [
        {
          "output_type": "stream",
          "name": "stdout",
          "text": [
            "william, 7 characters\n"
          ]
        }
      ]
    },
    {
      "cell_type": "markdown",
      "metadata": {
        "id": "2UTCEzYtdPTH"
      },
      "source": [
        "## String Case Conversion  \n",
        "\n",
        "When you start to compare and search for strings, you will need to be aware that data doesn’t always turn up in the state we would like it.  People often forget to use capital letters at the beginning of their names and will sometimes use all capitals.  It is useful, therefore, to be able to convert a String either to all capitals or all lowercase, depending on how you want to see it.  \n",
        "\n",
        "There are three functions for this, which are linked to the String (here the String variable is called **name**).  \n",
        "\n",
        "*   **upper_case_name** = `name.upper()`\n",
        "*   **lower_case_name** = `name.lower()`\n",
        "*   **capitalised_name** = `name.capitalize()`\n"
      ]
    },
    {
      "cell_type": "markdown",
      "metadata": {
        "id": "X-Fv314Hdicp"
      },
      "source": [
        "---\n",
        "### Exercise 5 - case conversion  \n",
        "\n",
        "Write a function called **convert_to_capitals()** which will:  \n",
        "\n",
        "*  Create a variable called **name** and assign it a string all in lowercase letters \n",
        "*  assign the capitalised String to the variable **capitalised_name** \n",
        "*  print the `name` in capitals  \n",
        "\n",
        "### Test  \n",
        "If `name` is \"jaswinder\" the output will be:    \n",
        "  \n",
        "JASWINDER  "
      ]
    },
    {
      "cell_type": "code",
      "metadata": {
        "id": "aHDLaligd0Do",
        "colab": {
          "base_uri": "https://localhost:8080/"
        },
        "outputId": "6416dd28-6d36-499e-858c-92266072a5f3"
      },
      "source": [
        "def convert_to_capitals():\n",
        "  name=\"bob hope\"\n",
        "  capitalised_name=name.capitalize()\n",
        "\n",
        "  print(capitalised_name)\n",
        "convert_to_capitals()"
      ],
      "execution_count": 21,
      "outputs": [
        {
          "output_type": "stream",
          "name": "stdout",
          "text": [
            "Bob hope\n"
          ]
        }
      ]
    },
    {
      "cell_type": "markdown",
      "metadata": {
        "id": "DZeyD6p8dusQ"
      },
      "source": [
        "---\n",
        "###Exercise 6 - case conversion  \n",
        "\n",
        "Write a function called **capitalise_names()** which will:  \n",
        "\n",
        "*  Create the variables **name** and **surname** and give each an appropriate value  \n",
        "*  print both `name` and `surname` in lowercase with a capital letter at the start, even if they didn't have capitals when they were typed in  \n",
        "\n",
        "### Test  \n",
        "If `name` is \"benJamIN\" and `surname` is \"rAbBit\" the output will be:    \n",
        " \n",
        "Benjamin Rabbit\n"
      ]
    },
    {
      "cell_type": "code",
      "metadata": {
        "id": "bpCdYaPdap3V",
        "colab": {
          "base_uri": "https://localhost:8080/"
        },
        "outputId": "d7109fca-36c7-44b0-cb4a-e4425fc13e09"
      },
      "source": [
        "def capitalise_names():\n",
        "  name=\"benJamIN\"\n",
        "  surname=\"rAbBit\"\n",
        "  capitalise_names=name.capitalize()+ \" \" +surname.capitalize()\n",
        "\n",
        "  print(capitalise_names)\n",
        "capitalise_names()"
      ],
      "execution_count": 34,
      "outputs": [
        {
          "output_type": "stream",
          "name": "stdout",
          "text": [
            "Benjamin Rabbit\n"
          ]
        }
      ]
    },
    {
      "cell_type": "markdown",
      "metadata": {
        "id": "8Q9-32tFaqLN"
      },
      "source": [
        "---\n",
        "### Exercise 7 - Substrings\n",
        "\n",
        "Write a function called **print_postcode_letters()** which will:   \n",
        "\n",
        "*  Create a variable called **postcode** and assign it the value of a correctly formatted postcode    \n",
        "*  assign the first two letters of the postcode to a variable called **postcode_area**  \n",
        "*  convert the `postcode_area` String to capital letters and assign this to a variable called **capitalised_area**  \n",
        "*  print the `capitalised_area`  \n",
        "\n",
        "### Test  \n",
        "If `postcode` is \"Me4 6bb\" the output will be:    \n",
        "\n",
        "ME"
      ]
    },
    {
      "cell_type": "code",
      "metadata": {
        "id": "dB3M2qagbUsE",
        "colab": {
          "base_uri": "https://localhost:8080/"
        },
        "outputId": "ac610175-5926-4821-ccbf-46fb27c69a83"
      },
      "source": [
        "def print_postcode_letters():\n",
        "  postcode=\"me4 6BB\"\n",
        "  postcode_area=postcode[0:2].upper()\n",
        "  print(postcode_area)\n",
        "print_postcode_letters()"
      ],
      "execution_count": 36,
      "outputs": [
        {
          "output_type": "stream",
          "name": "stdout",
          "text": [
            "ME\n"
          ]
        }
      ]
    },
    {
      "cell_type": "markdown",
      "metadata": {
        "id": "2eezJB2UbU1M"
      },
      "source": [
        "---\n",
        "### Exercise 8 - Floor division and slicing\n",
        "\n",
        "Write a function called **print_half_word()** which will:\n",
        " \n",
        "*  create a variable called **word** and assign a word  \n",
        "*  assign the value of half the length of the `word` to a variable called **half_length**  \n",
        "*  assign the first half of the `word` to a new variable called **half_word**  \n",
        "*  print `half_word`  \n",
        "\n",
        "*Hint:  when dividing the length of the word by 2, use floor division (//) so that you get a whole number of letters).  To get the first half of the word, use word[0:halfLength]*  \n",
        "\n",
        "### Test  \n",
        "If `word` has the value \"Runtime\" the output will be:    \n",
        " \n",
        "Run"
      ]
    },
    {
      "cell_type": "code",
      "metadata": {
        "id": "Xx3zHFgab2pt"
      },
      "source": [
        "def print_half_world():\n",
        "   word=\"runtime\"\n",
        "   half_length=\"time\"\n",
        "   half_word=\"run\"        "
      ],
      "execution_count": null,
      "outputs": []
    },
    {
      "cell_type": "code",
      "source": [],
      "metadata": {
        "id": "9RWQOKtb7bIh"
      },
      "execution_count": null,
      "outputs": []
    },
    {
      "cell_type": "markdown",
      "metadata": {
        "id": "0MdQRAo4b20u"
      },
      "source": [
        "---\n",
        "### Exercise 9 - String repetition\n",
        "\n",
        "Write a function called **repeat_two_letters()** which will:\n",
        "\n",
        "*  create a variable called **word** and assign it a value  \n",
        "*  assign the last two letters of the `word` to a variable called **last_two**  \n",
        "*  assign a string made of 5 copies of the `last_two` (*Hint: `last_two`* * 5 *will do it)* to a variable called **five_copies**  \n",
        "*  print `five_copies`\n",
        "\n",
        "### Test  \n",
        "if `word` is \"Data\" the output will be:  \n",
        "\n",
        "tatatatata"
      ]
    },
    {
      "cell_type": "code",
      "metadata": {
        "id": "85-6jHD-cXRO"
      },
      "source": [],
      "execution_count": null,
      "outputs": []
    },
    {
      "cell_type": "markdown",
      "metadata": {
        "id": "6P284VwXcXaU"
      },
      "source": [
        "---\n",
        "### Exercise 10 - converting String to lower case\n",
        "\n",
        "Write a function called **lowerCase_threeLetters()** which will:  \n",
        "\n",
        "*  assign the value “january” to a variable called **month**  \n",
        "*  assign the first three characters of `month` to a variable called **month_short**   \n",
        "*  capitalise `month_short` and store the result back in `month_short`\n",
        "*  assign the rest of the characters to a variable called **month_rest**  \n",
        "*  join `month_short` and `month_rest` together and store the result back into the variable `month`  \n",
        "*  print `month`  \n",
        "\n",
        "Expected output:  \n",
        "JANuary  "
      ]
    },
    {
      "cell_type": "code",
      "metadata": {
        "id": "GXqOeFwycuDD"
      },
      "source": [],
      "execution_count": null,
      "outputs": []
    }
  ]
}