{
  "nbformat": 4,
  "nbformat_minor": 0,
  "metadata": {
    "colab": {
      "provenance": [],
      "include_colab_link": true
    },
    "kernelspec": {
      "name": "python3",
      "display_name": "Python 3"
    }
  },
  "cells": [
    {
      "cell_type": "markdown",
      "metadata": {
        "id": "view-in-github",
        "colab_type": "text"
      },
      "source": [
        "<a href=\"https://colab.research.google.com/github/Louise1909/Work-Based-Learning/blob/main/Copy_of_Copy_of_Data_Types_1_T%26C.ipynb\" target=\"_parent\"><img src=\"https://colab.research.google.com/assets/colab-badge.svg\" alt=\"Open In Colab\"/></a>"
      ]
    },
    {
      "cell_type": "markdown",
      "metadata": {
        "id": "hfYzBHsYgy0C"
      },
      "source": [
        "# Data types and Variables\n",
        "---\n",
        "\n",
        "\n",
        "**Concept**: Variables can store data of different types.  \n",
        "*   **int** (whole numbers, e.g. 4, 523, 1984)  \n",
        "*   **float** (decimal numbers e.g. 4.3, )  \n",
        "*   **str** (strings of characters)  \n",
        "*   **bool** (True or False)  \n",
        "\n",
        "and can be stored in groups (**lists, tuples, dictionaries,** etc)\n",
        "\n",
        "You can '**assign**' a value to a variable using the **=** sign.\n",
        "\n",
        "Once a variable has been assigned a value it will decide what type it is from that value. For example:  \n",
        "`firstname` = \"Monty\" \n",
        "`id` = 20  \n",
        "\n",
        "*firstname* is now a *str* variable (a string of characters) *id* is now an *int* variable (a whole number)  \n",
        "\n",
        "Once a variable knows its type you will only be able to use it for processes that are relevant to that type. For example, you won't be able to add firstname and id together because *firstname* is a word and *id* is a number. You would, however, be able to add 1 to the *id*  \n",
        "\n",
        "`id = id + 1 ` \n",
        "\n",
        "*id* is now 1 bigger than it was before\n"
      ]
    },
    {
      "cell_type": "markdown",
      "metadata": {
        "id": "bUfEgyAJBgxX"
      },
      "source": [
        "## Using variables of different types in functions (how we write a Python program)\n",
        "----\n",
        "**Concept**: Functions are small programs that contain a set of instructions to do something specific. \n",
        "Sometimes the function creates a new set of data but sometimes it just sets something up.  \n",
        "\n",
        "A function starts with the keyword **def** (short for define or definition). All instructions below the definition are indented and this indicates that they are part of that function. A function runs when its name is used outside the function (here it is not indented). The indentation is important, note where the code is and isn't indented.  \n",
        "\n"
      ]
    },
    {
      "cell_type": "markdown",
      "source": [
        "---\n",
        "### Exercise 1\n",
        "The cell below contains a **function**. \n",
        "\n",
        "*  create a string variable called **name** and assign it a value (any name)  \n",
        "*  print the message \"Hello\" `name`  \n",
        "*  change the value assigned to `name` and run the code again to get a new message\n",
        "\n",
        "### Test\n",
        "If the name you assign is \"Monty\" the output will be:  \n",
        "\n",
        "`Hello Monty`  "
      ],
      "metadata": {
        "id": "APjq4yznamR8"
      }
    },
    {
      "cell_type": "code",
      "metadata": {
        "id": "4oPwx_yTf-yt",
        "colab": {
          "base_uri": "https://localhost:8080/"
        },
        "outputId": "b82d8fa8-336d-464b-f61a-965f9d5e5987"
      },
      "source": [
        "def print_welcome():\n",
        "  # create the variable called name below here (indented like this line) and add the instruction print(\"Hello\",name)\n",
        "  name=\"bob\"\n",
        "  print (\"hello\",name)\n",
        "  \n",
        "print_welcome()"
      ],
      "execution_count": null,
      "outputs": [
        {
          "output_type": "stream",
          "name": "stdout",
          "text": [
            "hello bob\n"
          ]
        }
      ]
    },
    {
      "cell_type": "markdown",
      "metadata": {
        "id": "apeD48hhB1Ns"
      },
      "source": [
        "----\n",
        "### Exercise 2\n",
        "*  create two variables **email** and **access_code** and assign them each a value (which will be text  \n",
        "*  print the message 'The email address' `email` 'has the access code' `access_code`.  \n",
        "\n",
        "Change the value of the access_code and run the code again to get a different message.\n",
        "\n",
        "### Test\n",
        "If the email address is \"monty@python.org.uk\" and the access code is \"E4536K\", the message will be:  \n",
        "\n",
        "`The email address monty@python.org.uk has the access code E4536K`\n"
      ]
    },
    {
      "cell_type": "code",
      "metadata": {
        "id": "T6WtdKMiCGh-",
        "colab": {
          "base_uri": "https://localhost:8080/"
        },
        "outputId": "9cf56d4c-051d-44dc-817d-ac7d044a1c61"
      },
      "source": [
        "def print_access_message():\n",
        "  # add your code below here\n",
        "  email=\"monty@python.org.uk\"\n",
        "  message_1=\"the email address\"\n",
        "  message_2=\"the access code is\"\n",
        "  access_code=\"E4536K\"\n",
        "  print(message_1,email,message_2,access_code)\n",
        "print_access_message()"
      ],
      "execution_count": null,
      "outputs": [
        {
          "output_type": "stream",
          "name": "stdout",
          "text": [
            "the email address monty@python.org.uk the access code is E4536K\n"
          ]
        }
      ]
    },
    {
      "cell_type": "markdown",
      "metadata": {
        "id": "Vc435xArCR41"
      },
      "source": [
        "---\n",
        "### Exercise 3 - variables of different types\n",
        "*  create a variable called **notice** and assign it the value \"Maintenance - Pleasant House\"  \n",
        "*  create a variable called **views** and assign it the value 108  \n",
        "*  print a data record with the notice title on the first line and the number of views on the second.\n",
        "\n",
        "### Test  \n",
        "If notice is assigned \"Maintenance - Pleasant House\" and views is assigned 108 the output will be:  \n",
        "\n",
        "Notice title: Maintenance - Pleasant House  \n",
        "Views: 108 "
      ]
    },
    {
      "cell_type": "code",
      "metadata": {
        "id": "EmO5dR9nCYpE",
        "colab": {
          "base_uri": "https://localhost:8080/"
        },
        "outputId": "3706f01d-9803-4fab-da42-63b2dd5fd2c1"
      },
      "source": [
        "def print_notice_data():\n",
        "   # add your code below here\n",
        "   message_1=\"if notice is assigned\"\n",
        "   notice=\"maintenance - Pleasant House\"\n",
        "   message_2=\"and views is assigned\"\n",
        "   views=\"108\"\n",
        "   message_3=\"the output will be:\"\n",
        "   print(message_1,notice,message_2,views,message_3)\n",
        "print_notice_data()"
      ],
      "execution_count": null,
      "outputs": [
        {
          "output_type": "stream",
          "name": "stdout",
          "text": [
            "if notice is assigned maintenance - Pleasant House and views is assigned 108 the output will be:\n"
          ]
        }
      ]
    },
    {
      "cell_type": "markdown",
      "metadata": {
        "id": "xtPVg1k5CklX"
      },
      "source": [
        "---\n",
        "### Exercise 4 - float variables (and writing your own function)\n",
        "Write a function called **print_average_views()** which will:  \n",
        "\n",
        "*  create a variable called **notice_category** and assign the value \"Mental Health Support\"  \n",
        "*  create a variable called **average_views** and assign the value 248.27  \n",
        "*  print the message \"Average views per notice for the category\" notice_category \"were\" average_views \n",
        "\n",
        "### Test\n",
        "If notice_category is \"Mental Health Support and average_views is 248.27 the output will be:  \n",
        "\n",
        "Average views per notice for the category Mental Health Support is 248.27"
      ]
    },
    {
      "cell_type": "code",
      "metadata": {
        "id": "uUqY-_PbCsfN",
        "colab": {
          "base_uri": "https://localhost:8080/"
        },
        "outputId": "c940d05e-9cb1-4d0d-d1e1-259d4b799af0"
      },
      "source": [
        "# Write your function here\n",
        "\n",
        "notice_category=\"mental health support\"\n",
        "average_views=\"248.27\"\n",
        "\n",
        "\n",
        "# add the instruction to run the function\n",
        "\n",
        "print(notice_category,average_views)"
      ],
      "execution_count": null,
      "outputs": [
        {
          "output_type": "stream",
          "name": "stdout",
          "text": [
            "mental health support 248.27\n"
          ]
        }
      ]
    },
    {
      "cell_type": "markdown",
      "metadata": {
        "id": "HXK-Dn_eCtDN"
      },
      "source": [
        "---\n",
        "### Exercise 5 - concatenating strings\n",
        "Write a function called **print_location()** which will:  \n",
        "\n",
        "*  create a variable called **area** and assign it the value \"Medway\"  \n",
        "*  create a variable called **block** and assign it the value \"Pleasant House\"  \n",
        "*  create a variable called **message** and assign it the value `block + \", \" + area  \n",
        "*  print the `message`  \n",
        "\n",
        "### Test\n",
        "If the area is Medway and the block is Pleasant House, the output will be:  \n",
        "\n",
        "Pleasant House, Medway"
      ]
    },
    {
      "cell_type": "code",
      "metadata": {
        "id": "YJeP2teXC0cV",
        "colab": {
          "base_uri": "https://localhost:8080/"
        },
        "outputId": "8f059880-3465-4f7c-b9cf-94b2c7c40e1f"
      },
      "source": [
        "# Write the print_location function here\n",
        "area=\"Medway\"\n",
        "block=\"Pleasant House\"\n",
        "create=\"block+,+ area\"\n",
        "\n",
        "# add the instruction to run the function\n",
        "print(block,area)"
      ],
      "execution_count": null,
      "outputs": [
        {
          "output_type": "stream",
          "name": "stdout",
          "text": [
            "Pleasant House Medway\n"
          ]
        }
      ]
    }
  ]
}